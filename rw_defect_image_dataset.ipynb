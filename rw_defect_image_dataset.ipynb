{
 "cells": [
  {
   "cell_type": "markdown",
   "metadata": {
    "id": "OOpho4a_Qwh3"
   },
   "source": [
    "**Import Packages**"
   ]
  },
  {
   "cell_type": "code",
   "execution_count": null,
   "metadata": {
    "id": "7E3j1eItQdxb"
   },
   "outputs": [],
   "source": [
    "import os\n",
    "import numpy as np # linear algebra\n",
    "import pandas as pd # data processing, CSV file I/O (e.g. pd.read_csv)\n",
    "import matplotlib.pyplot as plt\n",
    "import matplotlib.image as mpimg\n",
    "%matplotlib inline\n",
    "\n",
    "import tensorflow as tf\n",
    "from tensorflow.keras.preprocessing.image import ImageDataGenerator\n",
    "from tensorflow.keras.preprocessing.image import img_to_array, load_img\n",
    "from tensorflow.keras.optimizers import RMSprop\n",
    "\n",
    "import random\n",
    "base_dir='../input/defect-imageset'\n",
    "train_dir = os.path.join(base_dir, 'train')\n",
    "validation_dir = os.path.join(base_dir, 'valid')"
   ]
  },
  {
   "cell_type": "markdown",
   "metadata": {
    "id": "GxcjaU4kQhr_"
   },
   "source": [
    "**Explore the Data**"
   ]
  },
  {
   "cell_type": "code",
   "execution_count": null,
   "metadata": {
    "id": "AdFPoAHdQdxh"
   },
   "outputs": [],
   "source": [
    "train_B_MD_Line = os.path.join(train_dir, 'B_MD Line')\n",
    "train_Bright = os.path.join(train_dir, 'Bright')\n",
    "train_Coating = os.path.join(train_dir, 'Coating')\n",
    "train_D_MD_Line = os.path.join(train_dir, 'D_MD Line')\n",
    "train_Dark = os.path.join(train_dir, 'Dark')\n",
    "train_Dent = os.path.join(train_dir, 'Dent')\n",
    "train_Insect = os.path.join(train_dir, 'Insect')\n",
    "train_Pass_G_Film = os.path.join(train_dir, 'Pass_G_Film')\n",
    "train_Pass_Glue = os.path.join(train_dir, 'Pass_Glue')\n",
    "train_Pass_W_Film = os.path.join(train_dir, 'Pass_W_Film')\n",
    "train_Scratch = os.path.join(train_dir, 'Scratch')\n",
    "train_Substance = os.path.join(train_dir, 'Substance')\n",
    "train_Uncoating = os.path.join(train_dir, 'Uncoating')"
   ]
  },
  {
   "cell_type": "code",
   "execution_count": null,
   "metadata": {
    "id": "JOrlqr9eQdxl"
   },
   "outputs": [],
   "source": [
    "validation_dir_B_MD_Line = os.path.join(validation_dir, 'B_MD Line')\n",
    "validation_dir_Bright = os.path.join(validation_dir, 'Bright')\n",
    "validation_dir_D_MD_Line = os.path.join(validation_dir, 'D_MD Line')\n",
    "validation_dir_Dark = os.path.join(validation_dir, 'Dark')\n",
    "validation_dir_Dent = os.path.join(validation_dir, 'Dent_RGH')\n",
    "validation_dir_Insect = os.path.join(validation_dir, 'Insect')\n",
    "validation_dir_Pass_G_Film = os.path.join(validation_dir, 'Pass_G_Film')\n",
    "validation_dir_Pass_Glue = os.path.join(validation_dir, 'Pass_Glue')\n",
    "validation_dir_Pass_W_Film = os.path.join(validation_dir, 'Pass_W_Film')\n",
    "validation_dir_Scratch = os.path.join(validation_dir, 'Scratch')\n",
    "validation_dir_Substance = os.path.join(validation_dir, 'Substance')\n",
    "validation_dir_Uncoating = os.path.join(train_dir, 'Uncoating')"
   ]
  },
  {
   "cell_type": "markdown",
   "metadata": {
    "id": "N0K3nmNWQ_eN"
   },
   "source": [
    "**Data Preprocessing**"
   ]
  },
  {
   "cell_type": "code",
   "execution_count": null,
   "metadata": {
    "id": "4YlsIxmfQdxp"
   },
   "outputs": [],
   "source": [
    "train_datagen = ImageDataGenerator(rescale=1.0/255,\n",
    "                                  rotation_range=40,\n",
    "                                  width_shift_range=0.2,\n",
    "                                  height_shift_range=0.2,\n",
    "                                  shear_range=0.2,\n",
    "                                  zoom_range=0.2,\n",
    "                                  horizontal_flip=True,\n",
    "                                  fill_mode='nearest')\n",
    "test_datagen = ImageDataGenerator(rescale=1.0/255)"
   ]
  },
  {
   "cell_type": "code",
   "execution_count": null,
   "metadata": {
    "id": "E7U2Ggq4Qdxt",
    "outputId": "80e16b52-e8f8-432c-ad6d-be050c4f649f"
   },
   "outputs": [
    {
     "name": "stdout",
     "output_type": "stream",
     "text": [
      "Found 15858 images belonging to 13 classes.\n",
      "Found 1718 images belonging to 12 classes.\n"
     ]
    }
   ],
   "source": [
    "train_generator = train_datagen.flow_from_directory(train_dir,batch_size=20,class_mode='categorical',target_size=(150,150))\n",
    "validation_generator = test_datagen.flow_from_directory(validation_dir,batch_size=20,class_mode='categorical',target_size=(150,150))"
   ]
  },
  {
   "cell_type": "markdown",
   "metadata": {
    "id": "H1oSfJtXRJ-U"
   },
   "source": [
    "**Building Model**"
   ]
  },
  {
   "cell_type": "code",
   "execution_count": null,
   "metadata": {
    "id": "JPfkvvJQQdxx"
   },
   "outputs": [],
   "source": [
    "model=tf.keras.models.Sequential([\n",
    "    tf.keras.layers.Conv2D(16, (3,3), activation='relu',input_shape=(150,150,3)),\n",
    "    tf.keras.layers.MaxPooling2D(2,2),\n",
    "    tf.keras.layers.Conv2D(32, (3,3), activation='relu'),\n",
    "    tf.keras.layers.MaxPooling2D(2,2),\n",
    "    tf.keras.layers.Conv2D(64, (3,3), activation='relu'),\n",
    "    tf.keras.layers.MaxPooling2D(2,2),\n",
    "    tf.keras.layers.Flatten(),\n",
    "    tf.keras.layers.Dense(1024, activation='relu'),\n",
    "    tf.keras.layers.Dense(1,activation='sigmoid')    \n",
    "])"
   ]
  },
  {
   "cell_type": "code",
   "execution_count": null,
   "metadata": {
    "id": "2q4WGca4Qdxz"
   },
   "outputs": [],
   "source": [
    "model.compile(optimizer=RMSprop(lr=0.001),\n",
    "              loss='categorical_crossentropy',\n",
    "              metrics=['acc'])"
   ]
  },
  {
   "cell_type": "markdown",
   "metadata": {
    "id": "WjrDEvoCRf9V"
   },
   "source": [
    "**Training**"
   ]
  },
  {
   "cell_type": "code",
   "execution_count": null,
   "metadata": {
    "id": "Emc7j4wHQdx4",
    "outputId": "21050e4f-cf18-4497-8eb4-090b4851e036"
   },
   "outputs": [
    {
     "name": "stdout",
     "output_type": "stream",
     "text": [
      "Epoch 1/158\n",
      "100/100 [==============================] - 47s 467ms/step - loss: 1.1921e-07 - acc: 0.9231 - val_loss: 1.1921e-07 - val_acc: 0.9167\n",
      "Epoch 2/158\n",
      "100/100 [==============================] - 46s 460ms/step - loss: 1.1921e-07 - acc: 0.9231 - val_loss: 1.1921e-07 - val_acc: 0.9167\n",
      "Epoch 3/158\n",
      "100/100 [==============================] - 47s 466ms/step - loss: 1.1921e-07 - acc: 0.9231 - val_loss: 1.1921e-07 - val_acc: 0.9167\n",
      "Epoch 4/158\n",
      "100/100 [==============================] - 46s 462ms/step - loss: 1.1921e-07 - acc: 0.9227 - val_loss: 1.1921e-07 - val_acc: 0.9167\n",
      "Epoch 5/158\n",
      "100/100 [==============================] - 46s 463ms/step - loss: 1.1921e-07 - acc: 0.9231 - val_loss: 1.1921e-07 - val_acc: 0.9167\n",
      "Epoch 6/158\n",
      "100/100 [==============================] - 47s 465ms/step - loss: 1.1921e-07 - acc: 0.9231 - val_loss: 1.1921e-07 - val_acc: 0.9167\n",
      "Epoch 7/158\n",
      "100/100 [==============================] - 59s 589ms/step - loss: 1.1921e-07 - acc: 0.9227 - val_loss: 1.1921e-07 - val_acc: 0.9167\n",
      "Epoch 8/158\n",
      "100/100 [==============================] - 47s 472ms/step - loss: 1.1921e-07 - acc: 0.9231 - val_loss: 1.1921e-07 - val_acc: 0.9167\n",
      "Epoch 9/158\n",
      "100/100 [==============================] - 46s 464ms/step - loss: 1.1921e-07 - acc: 0.9231 - val_loss: 1.1921e-07 - val_acc: 0.9167\n",
      "Epoch 10/158\n",
      "100/100 [==============================] - 46s 464ms/step - loss: 1.1921e-07 - acc: 0.9231 - val_loss: 1.1921e-07 - val_acc: 0.9167\n",
      "Epoch 11/158\n",
      "100/100 [==============================] - 46s 463ms/step - loss: 1.1921e-07 - acc: 0.9231 - val_loss: 1.1921e-07 - val_acc: 0.9167\n",
      "Epoch 12/158\n",
      "100/100 [==============================] - 46s 460ms/step - loss: 1.1921e-07 - acc: 0.9231 - val_loss: 1.1921e-07 - val_acc: 0.9167\n",
      "Epoch 13/158\n",
      "100/100 [==============================] - 47s 466ms/step - loss: 1.1921e-07 - acc: 0.9231 - val_loss: 1.1921e-07 - val_acc: 0.9167\n",
      "Epoch 14/158\n",
      "100/100 [==============================] - 47s 465ms/step - loss: 1.1921e-07 - acc: 0.9227 - val_loss: 1.1921e-07 - val_acc: 0.9167\n",
      "Epoch 15/158\n",
      "100/100 [==============================] - 47s 465ms/step - loss: 1.1921e-07 - acc: 0.9231 - val_loss: 1.1921e-07 - val_acc: 0.9167\n",
      "Epoch 16/158\n",
      "100/100 [==============================] - 47s 466ms/step - loss: 1.1921e-07 - acc: 0.9231 - val_loss: 1.1921e-07 - val_acc: 0.9167\n",
      "Epoch 17/158\n",
      "100/100 [==============================] - 46s 458ms/step - loss: 1.1921e-07 - acc: 0.9231 - val_loss: 1.1921e-07 - val_acc: 0.9167\n",
      "Epoch 18/158\n",
      "100/100 [==============================] - 47s 469ms/step - loss: 1.1921e-07 - acc: 0.9231 - val_loss: 1.1921e-07 - val_acc: 0.9167\n",
      "Epoch 19/158\n",
      "100/100 [==============================] - 47s 465ms/step - loss: 1.1921e-07 - acc: 0.9231 - val_loss: 1.1921e-07 - val_acc: 0.9167\n",
      "Epoch 20/158\n",
      "100/100 [==============================] - 61s 605ms/step - loss: 1.1921e-07 - acc: 0.9231 - val_loss: 1.1921e-07 - val_acc: 0.9167\n",
      "Epoch 21/158\n",
      "100/100 [==============================] - 47s 467ms/step - loss: 1.1921e-07 - acc: 0.9231 - val_loss: 1.1921e-07 - val_acc: 0.9167\n",
      "Epoch 22/158\n",
      "100/100 [==============================] - 47s 466ms/step - loss: 1.1921e-07 - acc: 0.9231 - val_loss: 1.1921e-07 - val_acc: 0.9167\n",
      "Epoch 23/158\n",
      "100/100 [==============================] - 46s 462ms/step - loss: 1.1921e-07 - acc: 0.9231 - val_loss: 1.1921e-07 - val_acc: 0.9167\n",
      "Epoch 24/158\n",
      "100/100 [==============================] - 47s 473ms/step - loss: 1.1921e-07 - acc: 0.9231 - val_loss: 1.1921e-07 - val_acc: 0.9167\n",
      "Epoch 25/158\n",
      "100/100 [==============================] - 47s 467ms/step - loss: 1.1921e-07 - acc: 0.9231 - val_loss: 1.1921e-07 - val_acc: 0.9167\n",
      "Epoch 26/158\n",
      "100/100 [==============================] - 47s 473ms/step - loss: 1.1921e-07 - acc: 0.9227 - val_loss: 1.1921e-07 - val_acc: 0.9167\n",
      "Epoch 27/158\n",
      "100/100 [==============================] - 47s 467ms/step - loss: 1.1921e-07 - acc: 0.9231 - val_loss: 1.1921e-07 - val_acc: 0.9167\n",
      "Epoch 28/158\n",
      "100/100 [==============================] - 47s 467ms/step - loss: 1.1921e-07 - acc: 0.9231 - val_loss: 1.1921e-07 - val_acc: 0.9167\n",
      "Epoch 29/158\n",
      "100/100 [==============================] - 47s 466ms/step - loss: 1.1921e-07 - acc: 0.9227 - val_loss: 1.1921e-07 - val_acc: 0.9167\n",
      "Epoch 30/158\n",
      "100/100 [==============================] - 46s 465ms/step - loss: 1.1921e-07 - acc: 0.9222 - val_loss: 1.1921e-07 - val_acc: 0.9167\n",
      "Epoch 31/158\n",
      "100/100 [==============================] - 47s 469ms/step - loss: 1.1921e-07 - acc: 0.9227 - val_loss: 1.1921e-07 - val_acc: 0.9167\n",
      "Epoch 32/158\n",
      "100/100 [==============================] - 46s 461ms/step - loss: 1.1921e-07 - acc: 0.9231 - val_loss: 1.1921e-07 - val_acc: 0.9167\n",
      "Epoch 33/158\n",
      "100/100 [==============================] - 62s 616ms/step - loss: 1.1921e-07 - acc: 0.9231 - val_loss: 1.1921e-07 - val_acc: 0.9167\n",
      "Epoch 34/158\n",
      "100/100 [==============================] - 47s 468ms/step - loss: 1.1921e-07 - acc: 0.9231 - val_loss: 1.1921e-07 - val_acc: 0.9167\n",
      "Epoch 35/158\n",
      "100/100 [==============================] - 46s 464ms/step - loss: 1.1921e-07 - acc: 0.9227 - val_loss: 1.1921e-07 - val_acc: 0.9167\n",
      "Epoch 36/158\n",
      "100/100 [==============================] - 47s 466ms/step - loss: 1.1921e-07 - acc: 0.9231 - val_loss: 1.1921e-07 - val_acc: 0.9167\n",
      "Epoch 37/158\n",
      "100/100 [==============================] - 47s 469ms/step - loss: 1.1921e-07 - acc: 0.9227 - val_loss: 1.1921e-07 - val_acc: 0.9167\n",
      "Epoch 38/158\n",
      "100/100 [==============================] - 46s 460ms/step - loss: 1.1921e-07 - acc: 0.9227 - val_loss: 1.1921e-07 - val_acc: 0.9167\n",
      "Epoch 39/158\n",
      "100/100 [==============================] - 47s 473ms/step - loss: 1.1921e-07 - acc: 0.9227 - val_loss: 1.1921e-07 - val_acc: 0.9167\n",
      "Epoch 40/158\n",
      "100/100 [==============================] - 47s 466ms/step - loss: 1.1921e-07 - acc: 0.9231 - val_loss: 1.1921e-07 - val_acc: 0.9167\n",
      "Epoch 41/158\n",
      "100/100 [==============================] - 47s 469ms/step - loss: 1.1921e-07 - acc: 0.9231 - val_loss: 1.1921e-07 - val_acc: 0.9167\n",
      "Epoch 42/158\n",
      "100/100 [==============================] - 46s 463ms/step - loss: 1.1921e-07 - acc: 0.9231 - val_loss: 1.1921e-07 - val_acc: 0.9167\n",
      "Epoch 43/158\n",
      "100/100 [==============================] - 46s 462ms/step - loss: 1.1921e-07 - acc: 0.9231 - val_loss: 1.1921e-07 - val_acc: 0.9167\n",
      "Epoch 44/158\n",
      "100/100 [==============================] - 47s 467ms/step - loss: 1.1921e-07 - acc: 0.9231 - val_loss: 1.1921e-07 - val_acc: 0.9167\n",
      "Epoch 45/158\n",
      "100/100 [==============================] - 47s 465ms/step - loss: 1.1921e-07 - acc: 0.9231 - val_loss: 1.1921e-07 - val_acc: 0.9167\n",
      "Epoch 46/158\n",
      "100/100 [==============================] - 67s 675ms/step - loss: 1.1921e-07 - acc: 0.9231 - val_loss: 1.1921e-07 - val_acc: 0.9167\n",
      "Epoch 47/158\n",
      "100/100 [==============================] - 47s 468ms/step - loss: 1.1921e-07 - acc: 0.9231 - val_loss: 1.1921e-07 - val_acc: 0.9167\n",
      "Epoch 48/158\n",
      "100/100 [==============================] - 46s 465ms/step - loss: 1.1921e-07 - acc: 0.9231 - val_loss: 1.1921e-07 - val_acc: 0.9167\n",
      "Epoch 49/158\n",
      "100/100 [==============================] - 46s 464ms/step - loss: 1.1921e-07 - acc: 0.9231 - val_loss: 1.1921e-07 - val_acc: 0.9167\n",
      "Epoch 50/158\n",
      "100/100 [==============================] - 47s 466ms/step - loss: 1.1921e-07 - acc: 0.9227 - val_loss: 1.1921e-07 - val_acc: 0.9167\n",
      "Epoch 51/158\n",
      "100/100 [==============================] - 47s 475ms/step - loss: 1.1921e-07 - acc: 0.9231 - val_loss: 1.1921e-07 - val_acc: 0.9167\n",
      "Epoch 52/158\n",
      "100/100 [==============================] - 47s 470ms/step - loss: 1.1921e-07 - acc: 0.9231 - val_loss: 1.1921e-07 - val_acc: 0.9167\n",
      "Epoch 53/158\n",
      "100/100 [==============================] - 46s 459ms/step - loss: 1.1921e-07 - acc: 0.9231 - val_loss: 1.1921e-07 - val_acc: 0.9167\n",
      "Epoch 54/158\n",
      "100/100 [==============================] - 47s 466ms/step - loss: 1.1921e-07 - acc: 0.9231 - val_loss: 1.1921e-07 - val_acc: 0.9167\n",
      "Epoch 55/158\n",
      "100/100 [==============================] - 47s 467ms/step - loss: 1.1921e-07 - acc: 0.9231 - val_loss: 1.1921e-07 - val_acc: 0.9167\n",
      "Epoch 56/158\n",
      "100/100 [==============================] - 47s 468ms/step - loss: 1.1921e-07 - acc: 0.9231 - val_loss: 1.1921e-07 - val_acc: 0.9167\n",
      "Epoch 57/158\n",
      "100/100 [==============================] - 46s 464ms/step - loss: 1.1921e-07 - acc: 0.9231 - val_loss: 1.1921e-07 - val_acc: 0.9167\n",
      "Epoch 58/158\n",
      "100/100 [==============================] - 47s 466ms/step - loss: 1.1921e-07 - acc: 0.9231 - val_loss: 1.1921e-07 - val_acc: 0.9167\n",
      "Epoch 59/158\n",
      "100/100 [==============================] - 59s 590ms/step - loss: 1.1921e-07 - acc: 0.9227 - val_loss: 1.1921e-07 - val_acc: 0.9167\n",
      "Epoch 60/158\n",
      "100/100 [==============================] - 46s 465ms/step - loss: 1.1921e-07 - acc: 0.9231 - val_loss: 1.1921e-07 - val_acc: 0.9167\n",
      "Epoch 61/158\n",
      "100/100 [==============================] - 46s 463ms/step - loss: 1.1921e-07 - acc: 0.9231 - val_loss: 1.1921e-07 - val_acc: 0.9167\n",
      "Epoch 62/158\n",
      "100/100 [==============================] - 47s 468ms/step - loss: 1.1921e-07 - acc: 0.9231 - val_loss: 1.1921e-07 - val_acc: 0.9167\n",
      "Epoch 63/158\n",
      "100/100 [==============================] - 46s 463ms/step - loss: 1.1921e-07 - acc: 0.9231 - val_loss: 1.1921e-07 - val_acc: 0.9167\n",
      "Epoch 64/158\n",
      "100/100 [==============================] - 46s 464ms/step - loss: 1.1921e-07 - acc: 0.9227 - val_loss: 1.1921e-07 - val_acc: 0.9167\n",
      "Epoch 65/158\n",
      "100/100 [==============================] - 48s 475ms/step - loss: 1.1921e-07 - acc: 0.9231 - val_loss: 1.1921e-07 - val_acc: 0.9167\n",
      "Epoch 66/158\n",
      "100/100 [==============================] - 46s 464ms/step - loss: 1.1921e-07 - acc: 0.9231 - val_loss: 1.1921e-07 - val_acc: 0.9167\n",
      "Epoch 67/158\n",
      "100/100 [==============================] - 46s 464ms/step - loss: 1.1921e-07 - acc: 0.9227 - val_loss: 1.1921e-07 - val_acc: 0.9167\n",
      "Epoch 68/158\n",
      "100/100 [==============================] - 47s 465ms/step - loss: 1.1921e-07 - acc: 0.9231 - val_loss: 1.1921e-07 - val_acc: 0.9167\n",
      "Epoch 69/158\n",
      "100/100 [==============================] - 47s 466ms/step - loss: 1.1921e-07 - acc: 0.9231 - val_loss: 1.1921e-07 - val_acc: 0.9167\n",
      "Epoch 70/158\n",
      "100/100 [==============================] - 47s 467ms/step - loss: 1.1921e-07 - acc: 0.9231 - val_loss: 1.1921e-07 - val_acc: 0.9167\n",
      "Epoch 71/158\n",
      "100/100 [==============================] - 49s 491ms/step - loss: 1.1921e-07 - acc: 0.9231 - val_loss: 1.1921e-07 - val_acc: 0.9167\n",
      "Epoch 72/158\n",
      "100/100 [==============================] - 55s 554ms/step - loss: 1.1921e-07 - acc: 0.9231 - val_loss: 1.1921e-07 - val_acc: 0.9167\n",
      "Epoch 73/158\n",
      "100/100 [==============================] - 47s 465ms/step - loss: 1.1921e-07 - acc: 0.9231 - val_loss: 1.1921e-07 - val_acc: 0.9167\n",
      "Epoch 74/158\n",
      "100/100 [==============================] - 46s 458ms/step - loss: 1.1921e-07 - acc: 0.9231 - val_loss: 1.1921e-07 - val_acc: 0.9167\n",
      "Epoch 75/158\n",
      "100/100 [==============================] - 47s 468ms/step - loss: 1.1921e-07 - acc: 0.9227 - val_loss: 1.1921e-07 - val_acc: 0.9167\n",
      "Epoch 76/158\n",
      "100/100 [==============================] - 46s 464ms/step - loss: 1.1921e-07 - acc: 0.9231 - val_loss: 1.1921e-07 - val_acc: 0.9167\n",
      "Epoch 77/158\n",
      "100/100 [==============================] - 47s 470ms/step - loss: 1.1921e-07 - acc: 0.9227 - val_loss: 1.1921e-07 - val_acc: 0.9167\n",
      "Epoch 78/158\n",
      "100/100 [==============================] - 48s 476ms/step - loss: 1.1921e-07 - acc: 0.9231 - val_loss: 1.1921e-07 - val_acc: 0.9167\n",
      "Epoch 79/158\n",
      "100/100 [==============================] - 46s 458ms/step - loss: 1.1921e-07 - acc: 0.9231 - val_loss: 1.1921e-07 - val_acc: 0.9167\n",
      "Epoch 80/158\n",
      "100/100 [==============================] - 47s 467ms/step - loss: 1.1921e-07 - acc: 0.9231 - val_loss: 1.1921e-07 - val_acc: 0.9167\n",
      "Epoch 81/158\n",
      "100/100 [==============================] - 46s 464ms/step - loss: 1.1921e-07 - acc: 0.9227 - val_loss: 1.1921e-07 - val_acc: 0.9167\n",
      "Epoch 82/158\n",
      "100/100 [==============================] - 47s 469ms/step - loss: 1.1921e-07 - acc: 0.9231 - val_loss: 1.1921e-07 - val_acc: 0.9167\n",
      "Epoch 83/158\n",
      "100/100 [==============================] - 46s 463ms/step - loss: 1.1921e-07 - acc: 0.9231 - val_loss: 1.1921e-07 - val_acc: 0.9167\n",
      "Epoch 84/158\n",
      "100/100 [==============================] - 58s 576ms/step - loss: 1.1921e-07 - acc: 0.9231 - val_loss: 1.1921e-07 - val_acc: 0.9167\n",
      "Epoch 85/158\n",
      "100/100 [==============================] - 47s 466ms/step - loss: 1.1921e-07 - acc: 0.9231 - val_loss: 1.1921e-07 - val_acc: 0.9167\n",
      "Epoch 86/158\n",
      "100/100 [==============================] - 47s 468ms/step - loss: 1.1921e-07 - acc: 0.9231 - val_loss: 1.1921e-07 - val_acc: 0.9167\n",
      "Epoch 87/158\n",
      "100/100 [==============================] - 47s 466ms/step - loss: 1.1921e-07 - acc: 0.9231 - val_loss: 1.1921e-07 - val_acc: 0.9167\n",
      "Epoch 88/158\n",
      "100/100 [==============================] - 47s 470ms/step - loss: 1.1921e-07 - acc: 0.9231 - val_loss: 1.1921e-07 - val_acc: 0.9167\n",
      "Epoch 89/158\n",
      "100/100 [==============================] - 46s 461ms/step - loss: 1.1921e-07 - acc: 0.9231 - val_loss: 1.1921e-07 - val_acc: 0.9167\n",
      "Epoch 90/158\n",
      "100/100 [==============================] - 47s 466ms/step - loss: 1.1921e-07 - acc: 0.9231 - val_loss: 1.1921e-07 - val_acc: 0.9167\n",
      "Epoch 91/158\n",
      "100/100 [==============================] - 47s 473ms/step - loss: 1.1921e-07 - acc: 0.9227 - val_loss: 1.1921e-07 - val_acc: 0.9167\n",
      "Epoch 92/158\n",
      "100/100 [==============================] - 47s 467ms/step - loss: 1.1921e-07 - acc: 0.9231 - val_loss: 1.1921e-07 - val_acc: 0.9167\n",
      "Epoch 93/158\n",
      "100/100 [==============================] - 47s 469ms/step - loss: 1.1921e-07 - acc: 0.9231 - val_loss: 1.1921e-07 - val_acc: 0.9167\n",
      "Epoch 94/158\n",
      "100/100 [==============================] - 46s 459ms/step - loss: 1.1921e-07 - acc: 0.9231 - val_loss: 1.1921e-07 - val_acc: 0.9167\n",
      "Epoch 95/158\n",
      "100/100 [==============================] - 47s 468ms/step - loss: 1.1921e-07 - acc: 0.9231 - val_loss: 1.1921e-07 - val_acc: 0.9167\n",
      "Epoch 96/158\n",
      "100/100 [==============================] - 46s 462ms/step - loss: 1.1921e-07 - acc: 0.9231 - val_loss: 1.1921e-07 - val_acc: 0.9167\n",
      "Epoch 97/158\n",
      "100/100 [==============================] - 59s 595ms/step - loss: 1.1921e-07 - acc: 0.9231 - val_loss: 1.1921e-07 - val_acc: 0.9167\n",
      "Epoch 98/158\n",
      "100/100 [==============================] - 47s 466ms/step - loss: 1.1921e-07 - acc: 0.9231 - val_loss: 1.1921e-07 - val_acc: 0.9167\n",
      "Epoch 99/158\n",
      "100/100 [==============================] - 47s 465ms/step - loss: 1.1921e-07 - acc: 0.9227 - val_loss: 1.1921e-07 - val_acc: 0.9167\n",
      "Epoch 100/158\n",
      "100/100 [==============================] - 46s 459ms/step - loss: 1.1921e-07 - acc: 0.9231 - val_loss: 1.1921e-07 - val_acc: 0.9167\n",
      "Epoch 101/158\n",
      "100/100 [==============================] - 47s 470ms/step - loss: 1.1921e-07 - acc: 0.9231 - val_loss: 1.1921e-07 - val_acc: 0.9167\n",
      "Epoch 102/158\n",
      "100/100 [==============================] - 47s 465ms/step - loss: 1.1921e-07 - acc: 0.9231 - val_loss: 1.1921e-07 - val_acc: 0.9167\n",
      "Epoch 103/158\n",
      "100/100 [==============================] - 47s 475ms/step - loss: 1.1921e-07 - acc: 0.9231 - val_loss: 1.1921e-07 - val_acc: 0.9167\n",
      "Epoch 104/158\n",
      "100/100 [==============================] - 46s 463ms/step - loss: 1.1921e-07 - acc: 0.9231 - val_loss: 1.1921e-07 - val_acc: 0.9167\n",
      "Epoch 105/158\n",
      "100/100 [==============================] - 47s 466ms/step - loss: 1.1921e-07 - acc: 0.9231 - val_loss: 1.1921e-07 - val_acc: 0.9167\n",
      "Epoch 106/158\n",
      "100/100 [==============================] - 47s 468ms/step - loss: 1.1921e-07 - acc: 0.9231 - val_loss: 1.1921e-07 - val_acc: 0.9167\n",
      "Epoch 107/158\n",
      "100/100 [==============================] - 46s 465ms/step - loss: 1.1921e-07 - acc: 0.9231 - val_loss: 1.1921e-07 - val_acc: 0.9167\n",
      "Epoch 108/158\n",
      "100/100 [==============================] - 47s 470ms/step - loss: 1.1921e-07 - acc: 0.9227 - val_loss: 1.1921e-07 - val_acc: 0.9167\n",
      "Epoch 109/158\n",
      "100/100 [==============================] - 46s 456ms/step - loss: 1.1921e-07 - acc: 0.9231 - val_loss: 1.1921e-07 - val_acc: 0.9167\n",
      "Epoch 110/158\n",
      "100/100 [==============================] - 60s 604ms/step - loss: 1.1921e-07 - acc: 0.9231 - val_loss: 1.1921e-07 - val_acc: 0.9167\n",
      "Epoch 111/158\n",
      "100/100 [==============================] - 47s 473ms/step - loss: 1.1921e-07 - acc: 0.9231 - val_loss: 1.1921e-07 - val_acc: 0.9167\n",
      "Epoch 112/158\n",
      "100/100 [==============================] - 47s 467ms/step - loss: 1.1921e-07 - acc: 0.9231 - val_loss: 1.1921e-07 - val_acc: 0.9167\n",
      "Epoch 113/158\n"
     ]
    },
    {
     "name": "stdout",
     "output_type": "stream",
     "text": [
      "100/100 [==============================] - 47s 468ms/step - loss: 1.1921e-07 - acc: 0.9231 - val_loss: 1.1921e-07 - val_acc: 0.9167\n",
      "Epoch 114/158\n",
      "100/100 [==============================] - 47s 470ms/step - loss: 1.1921e-07 - acc: 0.9231 - val_loss: 1.1921e-07 - val_acc: 0.9167\n",
      "Epoch 115/158\n",
      "100/100 [==============================] - 46s 460ms/step - loss: 1.1921e-07 - acc: 0.9231 - val_loss: 1.1921e-07 - val_acc: 0.9167\n",
      "Epoch 116/158\n",
      "100/100 [==============================] - 47s 470ms/step - loss: 1.1921e-07 - acc: 0.9227 - val_loss: 1.1921e-07 - val_acc: 0.9167\n",
      "Epoch 117/158\n",
      "100/100 [==============================] - 47s 469ms/step - loss: 1.1921e-07 - acc: 0.9227 - val_loss: 1.1921e-07 - val_acc: 0.9167\n",
      "Epoch 118/158\n",
      "100/100 [==============================] - 47s 469ms/step - loss: 1.1921e-07 - acc: 0.9231 - val_loss: 1.1921e-07 - val_acc: 0.9167\n",
      "Epoch 119/158\n",
      "100/100 [==============================] - 46s 461ms/step - loss: 1.1921e-07 - acc: 0.9231 - val_loss: 1.1921e-07 - val_acc: 0.9167\n",
      "Epoch 120/158\n",
      "100/100 [==============================] - 46s 465ms/step - loss: 1.1921e-07 - acc: 0.9231 - val_loss: 1.1921e-07 - val_acc: 0.9167\n",
      "Epoch 121/158\n",
      "100/100 [==============================] - 47s 467ms/step - loss: 1.1921e-07 - acc: 0.9231 - val_loss: 1.1921e-07 - val_acc: 0.9167\n",
      "Epoch 122/158\n",
      "100/100 [==============================] - 48s 475ms/step - loss: 1.1921e-07 - acc: 0.9231 - val_loss: 1.1921e-07 - val_acc: 0.9167\n",
      "Epoch 123/158\n",
      "100/100 [==============================] - 65s 645ms/step - loss: 1.1921e-07 - acc: 0.9231 - val_loss: 1.1921e-07 - val_acc: 0.9167\n",
      "Epoch 124/158\n",
      "100/100 [==============================] - 47s 469ms/step - loss: 1.1921e-07 - acc: 0.9222 - val_loss: 1.1921e-07 - val_acc: 0.9167\n",
      "Epoch 125/158\n",
      "100/100 [==============================] - 47s 465ms/step - loss: 1.1921e-07 - acc: 0.9231 - val_loss: 1.1921e-07 - val_acc: 0.9167\n",
      "Epoch 126/158\n",
      "100/100 [==============================] - 46s 465ms/step - loss: 1.1921e-07 - acc: 0.9231 - val_loss: 1.1921e-07 - val_acc: 0.9167\n",
      "Epoch 127/158\n",
      "100/100 [==============================] - 47s 467ms/step - loss: 1.1921e-07 - acc: 0.9222 - val_loss: 1.1921e-07 - val_acc: 0.9167\n",
      "Epoch 128/158\n",
      "100/100 [==============================] - 47s 470ms/step - loss: 1.1921e-07 - acc: 0.9227 - val_loss: 1.1921e-07 - val_acc: 0.9167\n",
      "Epoch 129/158\n",
      "100/100 [==============================] - 47s 466ms/step - loss: 1.1921e-07 - acc: 0.9231 - val_loss: 1.1921e-07 - val_acc: 0.9167\n",
      "Epoch 130/158\n",
      "100/100 [==============================] - 46s 459ms/step - loss: 1.1921e-07 - acc: 0.9222 - val_loss: 1.1921e-07 - val_acc: 0.9167\n",
      "Epoch 131/158\n",
      "100/100 [==============================] - 47s 469ms/step - loss: 1.1921e-07 - acc: 0.9227 - val_loss: 1.1921e-07 - val_acc: 0.9167\n",
      "Epoch 132/158\n",
      "100/100 [==============================] - 47s 466ms/step - loss: 1.1921e-07 - acc: 0.9231 - val_loss: 1.1921e-07 - val_acc: 0.9167\n",
      "Epoch 133/158\n",
      "100/100 [==============================] - 47s 469ms/step - loss: 1.1921e-07 - acc: 0.9231 - val_loss: 1.1921e-07 - val_acc: 0.9167\n",
      "Epoch 134/158\n",
      "100/100 [==============================] - 47s 466ms/step - loss: 1.1921e-07 - acc: 0.9231 - val_loss: 1.1921e-07 - val_acc: 0.9167\n",
      "Epoch 135/158\n",
      "100/100 [==============================] - 46s 463ms/step - loss: 1.1921e-07 - acc: 0.9231 - val_loss: 1.1921e-07 - val_acc: 0.9167\n",
      "Epoch 136/158\n",
      "100/100 [==============================] - 60s 602ms/step - loss: 1.1921e-07 - acc: 0.9231 - val_loss: 1.1921e-07 - val_acc: 0.9167\n",
      "Epoch 137/158\n",
      "100/100 [==============================] - 47s 470ms/step - loss: 1.1921e-07 - acc: 0.9231 - val_loss: 1.1921e-07 - val_acc: 0.9167\n",
      "Epoch 138/158\n",
      "100/100 [==============================] - 47s 468ms/step - loss: 1.1921e-07 - acc: 0.9231 - val_loss: 1.1921e-07 - val_acc: 0.9167\n",
      "Epoch 139/158\n",
      "100/100 [==============================] - 47s 473ms/step - loss: 1.1921e-07 - acc: 0.9222 - val_loss: 1.1921e-07 - val_acc: 0.9167\n",
      "Epoch 140/158\n",
      "100/100 [==============================] - 48s 477ms/step - loss: 1.1921e-07 - acc: 0.9227 - val_loss: 1.1921e-07 - val_acc: 0.9167\n",
      "Epoch 141/158\n",
      "100/100 [==============================] - 46s 459ms/step - loss: 1.1921e-07 - acc: 0.9231 - val_loss: 1.1921e-07 - val_acc: 0.9167\n",
      "Epoch 142/158\n",
      "100/100 [==============================] - 47s 467ms/step - loss: 1.1921e-07 - acc: 0.9231 - val_loss: 1.1921e-07 - val_acc: 0.9167\n",
      "Epoch 143/158\n",
      "100/100 [==============================] - 47s 469ms/step - loss: 1.1921e-07 - acc: 0.9231 - val_loss: 1.1921e-07 - val_acc: 0.9167\n",
      "Epoch 144/158\n",
      "100/100 [==============================] - 47s 471ms/step - loss: 1.1921e-07 - acc: 0.9231 - val_loss: 1.1921e-07 - val_acc: 0.9167\n",
      "Epoch 145/158\n",
      "100/100 [==============================] - 46s 464ms/step - loss: 1.1921e-07 - acc: 0.9231 - val_loss: 1.1921e-07 - val_acc: 0.9167\n",
      "Epoch 146/158\n",
      "100/100 [==============================] - 46s 465ms/step - loss: 1.1921e-07 - acc: 0.9231 - val_loss: 1.1921e-07 - val_acc: 0.9167\n",
      "Epoch 147/158\n",
      "100/100 [==============================] - 46s 464ms/step - loss: 1.1921e-07 - acc: 0.9231 - val_loss: 1.1921e-07 - val_acc: 0.9167\n",
      "Epoch 148/158\n",
      "100/100 [==============================] - 47s 468ms/step - loss: 1.1921e-07 - acc: 0.9231 - val_loss: 1.1921e-07 - val_acc: 0.9167\n",
      "Epoch 149/158\n",
      "100/100 [==============================] - 61s 606ms/step - loss: 1.1921e-07 - acc: 0.9231 - val_loss: 1.1921e-07 - val_acc: 0.9167\n",
      "Epoch 150/158\n",
      "100/100 [==============================] - 47s 473ms/step - loss: 1.1921e-07 - acc: 0.9231 - val_loss: 1.1921e-07 - val_acc: 0.9167\n",
      "Epoch 151/158\n",
      "100/100 [==============================] - 46s 462ms/step - loss: 1.1921e-07 - acc: 0.9227 - val_loss: 1.1921e-07 - val_acc: 0.9167\n",
      "Epoch 152/158\n",
      "100/100 [==============================] - 47s 470ms/step - loss: 1.1921e-07 - acc: 0.9231 - val_loss: 1.1921e-07 - val_acc: 0.9167\n",
      "Epoch 153/158\n",
      "100/100 [==============================] - 47s 470ms/step - loss: 1.1921e-07 - acc: 0.9231 - val_loss: 1.1921e-07 - val_acc: 0.9167\n",
      "Epoch 154/158\n",
      "100/100 [==============================] - 48s 475ms/step - loss: 1.1921e-07 - acc: 0.9231 - val_loss: 1.1921e-07 - val_acc: 0.9167\n",
      "Epoch 155/158\n",
      "100/100 [==============================] - 47s 470ms/step - loss: 1.1921e-07 - acc: 0.9227 - val_loss: 1.1921e-07 - val_acc: 0.9167\n",
      "Epoch 156/158\n",
      "100/100 [==============================] - 46s 458ms/step - loss: 1.1921e-07 - acc: 0.9227 - val_loss: 1.1921e-07 - val_acc: 0.9167\n",
      "Epoch 157/158\n",
      "100/100 [==============================] - 47s 470ms/step - loss: 1.1921e-07 - acc: 0.9231 - val_loss: 1.1921e-07 - val_acc: 0.9167\n",
      "Epoch 158/158\n",
      "100/100 [==============================] - 47s 470ms/step - loss: 1.1921e-07 - acc: 0.9231 - val_loss: 1.1921e-07 - val_acc: 0.9167\n"
     ]
    }
   ],
   "source": [
    "\n",
    "history=model.fit_generator(train_generator,\n",
    "                           validation_data=validation_generator,\n",
    "                           steps_per_epoch=100,\n",
    "                           epochs=158,\n",
    "                           validation_steps=50,\n",
    "                           verbose=1)\n",
    "\n",
    "\n",
    "model.save(\"rps.h5\")"
   ]
  },
  {
   "cell_type": "markdown",
   "metadata": {
    "id": "etLtTbG1RjCs"
   },
   "source": [
    "**Evaluating Accuracy and Loss for the Model**"
   ]
  },
  {
   "cell_type": "code",
   "execution_count": null,
   "metadata": {
    "id": "c-R4rBGgQdx9",
    "outputId": "41c8c918-f662-4da1-962c-a534f9a9d187"
   },
   "outputs": [
    {
     "data": {
      "image/png": "[encoded data removed]",
      "text/plain": [
       "<Figure size 432x288 with 1 Axes>"
      ]
     },
     "metadata": {
      "needs_background": "light",
      "tags": []
     },
     "output_type": "display_data"
    },
    {
     "data": {
      "text/plain": [
       "<Figure size 432x288 with 0 Axes>"
      ]
     },
     "metadata": {
      "tags": []
     },
     "output_type": "display_data"
    }
   ],
   "source": [
    "acc = history.history['acc']\n",
    "val_acc = history.history['val_acc']\n",
    "loss = history.history['loss']\n",
    "val_loss = history.history['val_loss']\n",
    "\n",
    "epochs = range(len(acc))\n",
    "\n",
    "plt.plot(epochs, acc, 'r', label='Training accuracy')\n",
    "plt.plot(epochs, val_acc, 'b', label='Validation accuracy')\n",
    "plt.title('Training and validation accuracy')\n",
    "plt.legend(loc=0)\n",
    "plt.figure()\n",
    "\n",
    "\n",
    "plt.show()"
   ]
  }
 ],
 "metadata": {
  "colab": {
   "name": "rw-defect-image-dataset.ipynb",
   "provenance": []
  },
  "kernelspec": {
   "display_name": "Python 3",
   "language": "python",
   "name": "python3"
  },
  "language_info": {
   "codemirror_mode": {
    "name": "ipython",
    "version": 3
   },
   "file_extension": ".py",
   "mimetype": "text/x-python",
   "name": "python",
   "nbconvert_exporter": "python",
   "pygments_lexer": "ipython3",
   "version": "3.8.3"
  }
 },
 "nbformat": 4,
 "nbformat_minor": 1
}
